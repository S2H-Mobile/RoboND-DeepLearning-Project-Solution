{
  "nbformat": 4,
  "nbformat_minor": 0,
  "metadata": {
    "colab": {
      "name": "model_training_colab",
      "version": "0.3.2",
      "provenance": [],
      "collapsed_sections": [],
      "toc_visible": true,
      "include_colab_link": true
    },
    "kernelspec": {
      "name": "python3",
      "display_name": "Python 3"
    }
  },
  "cells": [
    {
      "cell_type": "markdown",
      "metadata": {
        "id": "view-in-github",
        "colab_type": "text"
      },
      "source": [
        "<a href=\"https://colab.research.google.com/github/S2H-Mobile/RoboND-DeepLearning-Project-Solution/blob/migrate-colab/code/model_training_colab.ipynb\" target=\"_parent\"><img src=\"https://colab.research.google.com/assets/colab-badge.svg\" alt=\"Open In Colab\"/></a>"
      ]
    },
    {
      "metadata": {
        "id": "OymP8-EUWIOB",
        "colab_type": "code",
        "colab": {}
      },
      "cell_type": "code",
      "source": [
        "from __future__ import absolute_import, division, print_function\n",
        "\n",
        "import tensorflow as tf\n",
        "from tensorflow.keras import layers, models\n",
        "\n",
        "tf.logging.set_verbosity(tf.logging.ERROR)\n",
        "\n",
        "print(tf.VERSION)\n",
        "print(tf.keras.__version__)\n",
        "\n",
        "# Enable eager execution, for TensorFlow <2 only.\n",
        "tf.enable_eager_execution()  "
      ],
      "execution_count": 0,
      "outputs": []
    },
    {
      "metadata": {
        "id": "nrlSG706bgxz",
        "colab_type": "text"
      },
      "cell_type": "markdown",
      "source": [
        "# Build and Compile the Model"
      ]
    },
    {
      "metadata": {
        "id": "c23QfxtNWsvA",
        "colab_type": "code",
        "colab": {}
      },
      "cell_type": "code",
      "source": [
        "def separable_conv2d_batchnorm(input_layer, filters, strides=1):\n",
        "    output_layer = layers.SeparableConv2D(filters=filters,kernel_size=3, strides=strides,\n",
        "                             padding='same', activation='relu')(input_layer)\n",
        "    \n",
        "    output_layer = layers.BatchNormalization()(output_layer) \n",
        "    return output_layer\n",
        "\n",
        "def conv2d_batchnorm(input_layer, filters, kernel_size=3, strides=1):\n",
        "    output_layer = layers.Conv2D(filters=filters, kernel_size=kernel_size, strides=strides, \n",
        "                      padding='same', activation='relu')(input_layer)\n",
        "    \n",
        "    output_layer = layers.BatchNormalization()(output_layer) \n",
        "    return output_layer"
      ],
      "execution_count": 0,
      "outputs": []
    },
    {
      "metadata": {
        "id": "biQ_0zZHW_h-",
        "colab_type": "code",
        "colab": {}
      },
      "cell_type": "code",
      "source": [
        "def bilinear_upsample(input_layer, factor=2):\n",
        "    return layers.UpSampling2D(size=(factor, factor), data_format=None, interpolation='bilinear')(input_layer)\n",
        "    #return tf.keras.layers.BilinearUpSampling2D((factor, factor))(input_layer)"
      ],
      "execution_count": 0,
      "outputs": []
    },
    {
      "metadata": {
        "id": "k4hvsDZDYO_C",
        "colab_type": "code",
        "colab": {}
      },
      "cell_type": "code",
      "source": [
        "def encoder_block(input_layer, filters, strides):\n",
        "    return separable_conv2d_batchnorm(input_layer, filters, strides)"
      ],
      "execution_count": 0,
      "outputs": []
    },
    {
      "metadata": {
        "id": "E599yEs6YUaw",
        "colab_type": "code",
        "colab": {}
      },
      "cell_type": "code",
      "source": [
        "def decoder_block(small_ip_layer, large_ip_layer, filters):\n",
        "    \n",
        "    # Upsample the small input layer using the bilinear_upsample() function.\n",
        "    upsampled_layer = bilinear_upsample(small_ip_layer, factor=2)\n",
        "    \n",
        "    # Concatenate the upsampled and large input layers using layers.concatenate\n",
        "    concatenated_layer = layers.concatenate([upsampled_layer, large_ip_layer])\n",
        "    \n",
        "    # Add two separable convolution layers\n",
        "    conv_layer_1 = separable_conv2d_batchnorm(concatenated_layer, filters)\n",
        "    conv_layer_2 = separable_conv2d_batchnorm(conv_layer_1, filters)\n",
        "    return conv_layer_2"
      ],
      "execution_count": 0,
      "outputs": []
    },
    {
      "metadata": {
        "id": "IsDnAzJgYY7k",
        "colab_type": "code",
        "colab": {}
      },
      "cell_type": "code",
      "source": [
        "def fcn_model(inputs, num_classes):\n",
        "    \n",
        "    # Add Encoder Blocks. The filter size increases with each encoder layer.\n",
        "    layer_1 = encoder_block(inputs, filters=32, strides=2)\n",
        "    layer_2 = encoder_block(layer_1, filters=64, strides=2)\n",
        "\n",
        "    # Add 1x1 Convolution layer using conv2d_batchnorm().\n",
        "    layer_3 = conv2d_batchnorm(layer_2, filters=128, kernel_size=1, strides=1)\n",
        "    \n",
        "    # Add the same number of decoder blocks as the number of encoder blocks.\n",
        "    layer_4 = decoder_block(layer_3, layer_1, filters=64)\n",
        "    layer_5 = decoder_block(layer_4, inputs, filters=32)\n",
        "    \n",
        "    # Add output Layer. Convolution operates on the final layer in last decoder block.\n",
        "    output = layers.Conv2D(num_classes, 1, activation='softmax', padding='same')(layer_5)\n",
        "    \n",
        "    # Return the output layer.\n",
        "    return output"
      ],
      "execution_count": 0,
      "outputs": []
    },
    {
      "metadata": {
        "id": "859hQdaIXA-u",
        "colab_type": "code",
        "colab": {}
      },
      "cell_type": "code",
      "source": [
        "# Define the input layer.\n",
        "image_shape = (160, 160, 3)\n",
        "input_layer = layers.Input(image_shape)\n",
        "\n",
        "# Define the output layer.\n",
        "num_classes = 3\n",
        "output_layer = fcn_model(input_layer, num_classes)"
      ],
      "execution_count": 0,
      "outputs": []
    },
    {
      "metadata": {
        "id": "Vi5ofi6QcmlW",
        "colab_type": "code",
        "colab": {}
      },
      "cell_type": "code",
      "source": [
        "# Define the model.\n",
        "model = models.Model(inputs=input_layer, outputs=output_layer)\n",
        "\n",
        "# Print a summary.\n",
        "model.summary()"
      ],
      "execution_count": 0,
      "outputs": []
    },
    {
      "metadata": {
        "id": "cTKRAcQzWMud",
        "colab_type": "code",
        "colab": {}
      },
      "cell_type": "code",
      "source": [
        "# Compile the model for training.\n",
        "learning_rate = 0.05\n",
        "model.compile(optimizer=tf.keras.optimizers.Adam(learning_rate), loss='categorical_crossentropy')"
      ],
      "execution_count": 0,
      "outputs": []
    },
    {
      "metadata": {
        "id": "c7V25kqwbWh0",
        "colab_type": "text"
      },
      "cell_type": "markdown",
      "source": [
        "# Data Preparation"
      ]
    },
    {
      "metadata": {
        "id": "ubnvDibsXFPg",
        "colab_type": "code",
        "colab": {}
      },
      "cell_type": "code",
      "source": [
        "# Download data for training, validation, and testing.\n",
        "!curl -o ./data/train.zip https://s3-us-west-1.amazonaws.com/udacity-robotics/Deep+Learning+Data/Lab/train.zip\n",
        "!curl -o ./data/validation.zip https://s3-us-west-1.amazonaws.com/udacity-robotics/Deep+Learning+Data/Lab/validation.zip\n",
        "!curl -o ./data/eval.zip https://s3-us-west-1.amazonaws.com/udacity-robotics/Deep+Learning+Data/Project/sample_evaluation_data.zip"
      ],
      "execution_count": 0,
      "outputs": []
    },
    {
      "metadata": {
        "id": "6eNr7a7xp5jv",
        "colab_type": "code",
        "colab": {}
      },
      "cell_type": "code",
      "source": [
        "# Unpack the downloaded archives to the data directory.\n",
        "!unzip -q ./data/train.zip -d ./data\n",
        "!unzip -q ./data/validation.zip -d ./data\n",
        "!unzip -q ./data/eval.zip -d ./data"
      ],
      "execution_count": 0,
      "outputs": []
    },
    {
      "metadata": {
        "id": "6Dp6fa42bpW7",
        "colab_type": "text"
      },
      "cell_type": "markdown",
      "source": [
        "# Training"
      ]
    }
  ]
}